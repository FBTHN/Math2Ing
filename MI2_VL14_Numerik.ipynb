{
 "cells": [
  {
   "cell_type": "code",
   "execution_count": null,
   "id": "b9600edc",
   "metadata": {
    "hide_input": true
   },
   "outputs": [],
   "source": [
    "from IPython.display import SVG, display\n",
    "\n",
    "svg_code = \"\"\"\n",
    "<svg width=\"640\" height=\"100\" xmlns=\"http://www.w3.org/2000/svg\">\n",
    "\n",
    "  <defs> \n",
    "    <filter id=\"shadow\"><feDropShadow dx=\"0.8\" dy=\"0.8\" stdDeviation=\"0.7\" flood-color=\"#999999\"/></filter> \n",
    "    <filter id=\"shadow2\"><feDropShadow dx=\"1.5\" dy=\"1.5\" stdDeviation=\"1\" flood-color=\"grey\"/></filter> \n",
    "  </defs>\n",
    "  \n",
    "  <text x=\"280\" y=\"45\" \n",
    "        font-family=\"Georgia, serif\" \n",
    "        font-size=\"32\" \n",
    "        font-weight=\"bold\" \n",
    "        fill=\"#1E428A\"\n",
    "        filter=\"url(#shadow)\">\n",
    "    <tspan>Mathematik II</tspan>\n",
    "    <tspan x=\"280\" dy=\"1.2em\">für Ingenieure</tspan>\n",
    "  </text>\n",
    "  \n",
    "\n",
    "  <g filter=\"url(#shadow2)\" fill=\"#183176\" clip-path=\"url(#clip0)\" \n",
    "  transform=\"translate(-120 -340)\"> \n",
    "  <path transform=\"scale(0.32)\" \n",
    "  d=\"M2199.83 1278.62C2177.15 1278.62 \n",
    "  2158.59 1260.11 2158.59 1237.5 2158.59 \n",
    "  1214.89 2177.15 1196.38 2199.83 1196.38 \n",
    "  2222.51 1196.38 2241.06 1214.89 2241.06 1237.5 \n",
    "  2241.06 1260.11 2222.51 1278.62 2199.83 \n",
    "  1278.62ZM2292.6 1211.8C2290.54 1204.26 2287.45 \n",
    "  1197.07 2283.67 1190.56L2292.26 1164.86 2272.67 \n",
    "  1145.33 2246.9 1153.89C2240.03 1150.13 2232.82 1147.04 \n",
    "  2225.26 1144.99L2213.57 1121 2186.08 1121 2174.06 1144.99C2166.5 \n",
    "  1147.04 2159.28 1150.13 2152.75 1153.89L2126.98 1145.33 2107.4 \n",
    "  1164.86 2115.99 1190.56C2112.21 1197.41 2109.11 1204.61 2107.05 \n",
    "  1212.14L2083 1223.79 2083 1251.21 2107.05 1263.2C2109.11 1270.74 \n",
    "  2112.21 1277.93 2115.99 1284.44L2107.4 1310.14 2126.98 1329.67 2152.75 \n",
    "  1321.11C2159.63 1324.88 2166.84 1327.96 2174.4 1330.01L2186.43 1354 \n",
    "  2213.92 1354 2225.94 1330.01C2233.5 1327.96 2240.72 1324.88 2247.25 \n",
    "  1321.11L2273.02 1329.67 2292.6 1310.14 2284.01 1284.44C2287.79 1277.59 \n",
    "  2290.89 1270.39 2292.95 1262.86L2317 1250.86 2317 1223.45 2292.6 1211.8Z\" \n",
    "  fill-rule=\"evenodd\" />\n",
    "  </g>\n",
    "  \n",
    "</svg>\n",
    "\"\"\"\n",
    "\n",
    "display(SVG(svg_code))"
   ]
  },
  {
   "cell_type": "markdown",
   "id": "83423ad1",
   "metadata": {},
   "source": [
    "<br><br>"
   ]
  },
  {
   "cell_type": "markdown",
   "id": "2b012e66",
   "metadata": {},
   "source": [
    "# 14 - Einführung in die numerische Lösung von    Differentialgleichungen mit digitalen Methoden"
   ]
  },
  {
   "cell_type": "code",
   "execution_count": null,
   "id": "4ccff92e",
   "metadata": {
    "hide_input": true
   },
   "outputs": [],
   "source": [
    "def SlopeField(fig,ff,f,ls,dtg,dyg,trange,yrange):\n",
    "    t = np.arange(trange[0],1.25*trange[1],dtg)\n",
    "    y = np.arange(yrange[0],1.25*yrange[1],dyg)\n",
    "    T, Y  = np.meshgrid(t, y)\n",
    "   \n",
    "    F  = f(T,Y)\n",
    "    dt = ls/np.sqrt(1+F**2)\n",
    "    dy = F*dt\n",
    "    \n",
    "    qfig = ff.create_quiver(T.flatten()-0/2*dt.flatten(), \n",
    "                            Y.flatten()-0/2*dy.flatten(),\n",
    "                            dt.flatten(),dy.flatten(),\n",
    "                            arrow_scale=0.01,\n",
    "                            showlegend=False,hoverinfo='none',\n",
    "                            line=dict(color='rgba(10,70,150,0.3)',width=1))\n",
    "    \n",
    "    for trace in qfig.data:\n",
    "        fig.add_trace(trace)\n",
    "                                 \n",
    "    return fig"
   ]
  },
  {
   "cell_type": "code",
   "execution_count": null,
   "id": "de95af3b",
   "metadata": {
    "hide_input": true
   },
   "outputs": [],
   "source": [
    "# Import and Settings\n",
    "#import plotly.offline as py\n",
    "import plotly.figure_factory as ff\n",
    "import plotly.graph_objects as go\n",
    "import plotly.io as pio\n",
    "from IPython.display import display, HTML\n",
    "pio.templates.default = None\n",
    "    \n",
    "def plotODE(t,y,f):\n",
    "\n",
    "    # Set up figure\n",
    "    fig = go.Figure()\n",
    "    \n",
    "      \n",
    "    # Create slider steps\n",
    "    steps = []\n",
    "    h_vals = [0.5,0.4,0.3, 0.2, 0.1]\n",
    "    \n",
    "    \n",
    "    for i, h in enumerate(h_vals):\n",
    "        is_visible = (i==2)\n",
    "        \n",
    "        # Get solutions\n",
    "        t  = np.arange(0,2,h_vals[i])\n",
    "        y_em = EulerMethod(t,f,y0,h)\n",
    "    \n",
    "        # Add traces\n",
    "        fig.add_trace(go.Scatter(x=t, y=y_em, mode='lines', \n",
    "                                 name='y_i',showlegend=False,\n",
    "                                 visible=is_visible,\n",
    "                                 line=dict(color='#1E76B4')))\n",
    "        fig.add_trace(go.Scatter(x=t, y=y_em, mode='markers', \n",
    "                                 name='y_i',showlegend=False,\n",
    "                                 visible=is_visible,\n",
    "                                 marker=dict(color='#3B7D23',size=10)))\n",
    "\n",
    "      \n",
    "   \n",
    "    \n",
    "    # Add slope field\n",
    "    fig = SlopeField(fig,ff,f,0.5,0.1,0.1,[0,2],[0,2])\n",
    "    \n",
    "    # Create slider\n",
    "    for i, h in enumerate(h_vals):\n",
    "        visibility = [True] * (len(fig.data))\n",
    "        visibility[0:2*len(h_vals)] = [False]*2*len(h_vals)\n",
    "        # Set the i-th pair of traces to visible\n",
    "        visibility[i*2] = True\n",
    "        visibility[i*2 + 1] = True\n",
    "        \n",
    "        step = dict(\n",
    "            method=\"restyle\",\n",
    "            args=[{\"visible\": visibility}],\n",
    "            label=f\"{h:.1f}\"  # Label for the slider tick\n",
    "        )\n",
    "        steps.append(step)\n",
    "     \n",
    "    \n",
    "    sliders = [dict(\n",
    "        active=2,  # The slider starts at the first step (h=0.5)\n",
    "        currentvalue={\"prefix\": \"h = \"},\n",
    "        pad={\"t\": 50}, # Padding to not overlap with title\n",
    "        steps=steps\n",
    "    )]\n",
    "        \n",
    "    # Set layout\n",
    "    fs = 16\n",
    "    fig.update_layout(\n",
    "        sliders=sliders,\n",
    "        font=dict(size=fs),  # Font size\n",
    "        legend=dict(xanchor=\"left\", x=0.01),  # Legend alignment\n",
    "        width=650,  # Figure width (example value)\n",
    "        height=500,  # Figure height (example value)\n",
    "        margin=dict(l=80, r=20, b=65, t=50),  # Margins\n",
    "        xaxis=dict(\n",
    "            range=[0, 2],  # Example x-axis range\n",
    "            title=dict(text=\"t\", font=dict(size=fs)),  # LaTeX-style title\n",
    "            scaleanchor=\"x\",  # Scale anchor\n",
    "            tick0=0.2,  # Tick starting value\n",
    "            dtick=0.2   # Tick interval\n",
    "        ),\n",
    "        yaxis=dict(\n",
    "            range=[0, 2],  # Example y-axis range\n",
    "            title=dict(text=\"y(t)\", font=dict(size=fs)),  # LaTeX-style title\n",
    "            tick0=0.2,  # Tick starting value\n",
    "            dtick=0.2   # Tick interval\n",
    "        )\n",
    "    )\n",
    "\n",
    "    display(HTML(f\"\"\"\n",
    "    <div style=\"display: flex; justify-content: center; align-items: center;\">\n",
    "    {fig.to_html()}\n",
    "    </div>\n",
    "    \"\"\"))"
   ]
  },
  {
   "cell_type": "markdown",
   "id": "9ac9957c",
   "metadata": {},
   "source": [
    "## 1. Das Euler-Verfahren"
   ]
  },
  {
   "cell_type": "markdown",
   "id": "08a487e4",
   "metadata": {},
   "source": [
    "Verfahrensvorschrift: $\\quad t_{i+1}=t_i+h, \\quad y_{i+1}=y_i+h f(t_i,y_i)$"
   ]
  },
  {
   "cell_type": "code",
   "execution_count": null,
   "id": "b07e6389",
   "metadata": {},
   "outputs": [],
   "source": [
    "import numpy as np\n",
    "\n",
    "# ODE Function\n",
    "def f(t,y):\n",
    "    return t**2-y**2\n",
    "\n",
    "# Euler's Method\n",
    "def EulerMethod(t, f, y0, h):\n",
    "    y    = np.zeros(len(t))\n",
    "    y[0] = y0\n",
    "    for i in range(len(t)-1):\n",
    "        y[i+1] = y[i] + h * f(t[i], y[i])\n",
    "    return y\n",
    "\n",
    "# Parameters\n",
    "h  = 0.3\n",
    "t  = np.arange(0,2,h)\n",
    "y0 = 1.0\n",
    "\n",
    "# Solution\n",
    "y_em = EulerMethod(t,f,y0,h)"
   ]
  },
  {
   "cell_type": "code",
   "execution_count": null,
   "id": "e21c6f39",
   "metadata": {
    "scrolled": false
   },
   "outputs": [],
   "source": [
    "plotODE(t,y_em,f)"
   ]
  },
  {
   "cell_type": "markdown",
   "id": "36b9ae87",
   "metadata": {},
   "source": [
    "**Abbildung 1**: Simulationsergebnis des Euler Verfahrens über der Zeit."
   ]
  },
  {
   "cell_type": "markdown",
   "id": "7ee6087b",
   "metadata": {},
   "source": [
    "<br><br>"
   ]
  },
  {
   "cell_type": "code",
   "execution_count": null,
   "id": "dd089e43",
   "metadata": {
    "hide_input": true
   },
   "outputs": [],
   "source": [
    "# ODE Function\n",
    "def fStudy(t,y):\n",
    "    return t**2-y**2\n",
    "\n",
    "# Euler's Method\n",
    "def EulerMethodStudy(t, f, y0, h):\n",
    "    y    = np.zeros(len(t))\n",
    "    y[0] = y0\n",
    "    for i in range(len(t)-1):\n",
    "        y[i+1] = y[i] + h * f(t[i], y[i])\n",
    "    return y\n",
    "\n",
    "# Simulation Study Euler\n",
    "y0_study   = 1\n",
    "h_study    = [0.5,0.4,0.3,0.2,0.1,0.01]\n",
    "t_study    = []\n",
    "y_em_study = []\n",
    "for i,h in enumerate(h_study):\n",
    "    t_study.append(np.arange(0,2,h))\n",
    "    y_em_study.append(EulerMethodStudy(t_study[-1], fStudy, y0_study, h))\n",
    "\n",
    "# Plot Function\n",
    "def plotMultipleODEs(h_study,t_study,y_study,f,y0):\n",
    "\n",
    "    # Set up figure\n",
    "    fig = go.Figure()\n",
    "    \n",
    "    # Calculate the solutions\n",
    "    for i,h in enumerate(h_study):\n",
    "        # Add traces\n",
    "        color=f'rgba(10,{140-10*i},{230-20*i},1.0)'\n",
    "        fig.add_trace(go.Scatter(x=t_study[i], y=y_em_study[i], mode='lines', \n",
    "                                 name=f'h={h}',\n",
    "                                 line=dict(color=color)))\n",
    "        fig.add_trace(go.Scatter(x=t_study[i], y=y_em_study[i], mode='markers', \n",
    "                                 name='y_i',showlegend=False,\n",
    "                                 marker=dict(color=color,size=10)))\n",
    "    \n",
    "    \n",
    "\n",
    "    # Add slope field\n",
    "    fig = SlopeField(fig,ff,f,0.2,0.05,0.05,[0.4,1.6],[0.4,1.6])\n",
    "    \n",
    "        \n",
    "    # Set layout\n",
    "    fs = 16\n",
    "    fig.update_layout(\n",
    "        font=dict(size=fs),  # Font size\n",
    "        legend=dict(xanchor=\"left\", x=0.01),  # Legend alignment\n",
    "        width=650,  # Figure width (example value)\n",
    "        height=500,  # Figure height (example value)\n",
    "        margin=dict(l=80, r=20, b=65, t=50),  # Margins\n",
    "        xaxis=dict(\n",
    "            range=[0.6, 1.4],  # Example x-axis range\n",
    "            title=dict(text=\"t\", font=dict(size=fs)),  # LaTeX-style title\n",
    "            scaleanchor=\"x\",  # Scale anchor\n",
    "            tick0=0.2,  # Tick starting value\n",
    "            dtick=0.2   # Tick interval\n",
    "        ),\n",
    "        yaxis=dict(\n",
    "            range=[0.4, 1.2],  # Example y-axis range\n",
    "            title=dict(text=\"y(t)\", font=dict(size=fs)),  # LaTeX-style title\n",
    "            tick0=0.2,  # Tick starting value\n",
    "            dtick=0.2   # Tick interval\n",
    "        )\n",
    "    )\n",
    "\n",
    "    display(HTML(f\"\"\"\n",
    "    <div style=\"display: flex; justify-content: center; align-items: center;\">\n",
    "    {fig.to_html()}\n",
    "    </div>\n",
    "    \"\"\"))\n",
    "    \n",
    "def plotError(h_study,t_study,y_study):\n",
    "        \n",
    "    # Set up figure\n",
    "    fig = go.Figure()\n",
    "    \n",
    "    # Calculate the errors\n",
    "    e = []\n",
    "    for i,h in enumerate(h_study):\n",
    "        y_min:h=np.interp(t_study[i], t_study[-1], y_study[-1], \n",
    "                          left=None, right=None, period=None)\n",
    "        e.append(np.max(np.absolute(y_min-y_study[i])))\n",
    "    \n",
    "    # Create trace\n",
    "    fig.add_trace(go.Scatter(x=h_study, y=e, mode='lines', showlegend=False,\n",
    "                                 line=dict(color='#C72426')))\n",
    "    fig.add_trace(go.Scatter(x=h_study, y=e, mode='markers', showlegend=False,\n",
    "                                 marker=dict(color='#C72426',size=10)))\n",
    "    \n",
    "    # Set layout\n",
    "    fs = 16\n",
    "    fig.update_layout(\n",
    "        font=dict(size=fs),  # Font size\n",
    "        legend=dict(xanchor=\"left\", x=0.01),  # Legend alignment\n",
    "        width=650,  # Figure width (example value)\n",
    "        height=500,  # Figure height (example value)\n",
    "        margin=dict(l=80, r=20, b=65, t=50),  # Margins\n",
    "        xaxis=dict(\n",
    "            range=[0, 0.5],  # Example x-axis range\n",
    "            title=dict(text=\"h\", font=dict(size=fs)),  # LaTeX-style title\n",
    "            scaleanchor=\"x\",  # Scale anchor\n",
    "            autorange='reversed',\n",
    "            tick0=0.1,  # Tick starting value\n",
    "            dtick=0.1   # Tick interval\n",
    "        ),\n",
    "        yaxis=dict(\n",
    "            range=[0, 0.25],  # Example y-axis range\n",
    "            title=dict(text=\"e(h)\", font=dict(size=fs)),  # LaTeX-style title\n",
    "            tick0=0.05,  # Tick starting value\n",
    "            dtick=0.05   # Tick interval\n",
    "        )\n",
    "    )\n",
    "    \n",
    "    # Show Plot\n",
    "    display(HTML(f\"\"\"\n",
    "    <div style=\"display: flex; justify-content: center; align-items: center;\">\n",
    "    {fig.to_html()}\n",
    "    </div>\n",
    "    \"\"\"))\n",
    "            \n",
    "        "
   ]
  },
  {
   "cell_type": "code",
   "execution_count": null,
   "id": "2a406a64",
   "metadata": {
    "hide_input": true
   },
   "outputs": [],
   "source": [
    "plotMultipleODEs(h_study,t_study,y_em_study,fStudy,y0_study)"
   ]
  },
  {
   "cell_type": "markdown",
   "id": "1387e2b2",
   "metadata": {},
   "source": [
    "**Abbildung 2**: Verhalten der Näherung aus dem Euler Verfahren bei Reduktion der Schrittweite $h$."
   ]
  },
  {
   "cell_type": "code",
   "execution_count": null,
   "id": "3f4f52cd",
   "metadata": {
    "hide_input": true
   },
   "outputs": [],
   "source": [
    "plotError(h_study,t_study,y_em_study)"
   ]
  },
  {
   "cell_type": "markdown",
   "id": "390fef94",
   "metadata": {},
   "source": [
    "**Abbildung 3:** Verhalten des Fehlers $e=||y_{0.01}-y_h||_\\infty$  (Euler) beim Reduzieren der Schrittweite $h$."
   ]
  },
  {
   "cell_type": "markdown",
   "id": "2105ca52",
   "metadata": {},
   "source": [
    "Es lässt sich erkennen wie der **Fehler linear von** $\\boldsymbol{h}$ **abhängt**. Aus diesem Grund bezeichnet man das **Euler Verfahren** als **Verfahren 1.Ordnung**."
   ]
  },
  {
   "cell_type": "markdown",
   "id": "8df9ba4b",
   "metadata": {},
   "source": [
    "<br><br>"
   ]
  },
  {
   "cell_type": "markdown",
   "id": "69695eb5",
   "metadata": {},
   "source": [
    "## 2. Das Verfahren von Heun"
   ]
  },
  {
   "cell_type": "markdown",
   "id": "6636cfb8",
   "metadata": {},
   "source": [
    "Verfahrensvorschrift: $\\quad t_{i+1}=t_i+h, \\quad k_1=f(t_i,y_i), \\quad k_2=f(t_i+h,y_i+h k_1),  \\quad y_{i+1}=y_i + \\frac{h}{2}(k_1+k_2)$"
   ]
  },
  {
   "cell_type": "code",
   "execution_count": null,
   "id": "fb480a6c",
   "metadata": {},
   "outputs": [],
   "source": [
    "def HeunMethod(t,f,y0,h):\n",
    "    y    = np.zeros(len(t))\n",
    "    y[0] = y0\n",
    "    for i in range(len(t)-1):\n",
    "        k1     = f(t[i], y[i])\n",
    "        k2     = f(t[i]+h,y[i]+h*k1)\n",
    "        y[i+1] = y[i] + h/2 * (k1+k2)\n",
    "    return y"
   ]
  },
  {
   "cell_type": "code",
   "execution_count": null,
   "id": "c9ba8f20",
   "metadata": {
    "hide_input": true
   },
   "outputs": [],
   "source": [
    "def plotAndCompareODEs(y0,f):\n",
    "\n",
    "    # Set up figure\n",
    "    fig = go.Figure()\n",
    "    \n",
    "      \n",
    "    # Create slider steps\n",
    "    steps = []\n",
    "    h_vals = [0.5,0.4,0.3, 0.2, 0.1]\n",
    "    \n",
    "    \n",
    "    for i, h in enumerate(h_vals):\n",
    "        is_visible = (i==2)\n",
    "        \n",
    "        # Get solutions\n",
    "        t  = np.arange(0,2,h_vals[i])\n",
    "        y_em = EulerMethodStudy(t,f,y0,h)\n",
    "        y_he = HeunMethod(t,f,y0,h)\n",
    "    \n",
    "        # Add traces for Euler\n",
    " \n",
    "        \n",
    "        fig.add_trace(go.Scatter(x=t, y=y_em, mode='lines', \n",
    "                                 name='Euler',showlegend=True,\n",
    "                                 visible=is_visible,\n",
    "                                 line=dict(color='#1E76B4')))\n",
    "        fig.add_trace(go.Scatter(x=t, y=y_em, mode='markers', \n",
    "                                 name='y_i',showlegend=False,\n",
    "                                 visible=is_visible,\n",
    "                                 marker=dict(color='#1E76B4',size=10)))\n",
    "        \n",
    "        # Add traces for Heun\n",
    "        fig.add_trace(go.Scatter(x=t, y=y_he, mode='lines', \n",
    "                                 name='Heun',showlegend=True,\n",
    "                                 visible=is_visible,\n",
    "                                 line=dict(color='#C72426')))\n",
    "        fig.add_trace(go.Scatter(x=t, y=y_he, mode='markers', \n",
    "                                 name='y_i',showlegend=False,\n",
    "                                 visible=is_visible,\n",
    "                                 marker=dict(color='#C72426',size=10)))\n",
    "\n",
    "      \n",
    "   \n",
    "    \n",
    "    # Add slope field\n",
    "    fig = SlopeField(fig,ff,f,0.5,0.1,0.1,[0,2],[0,2])\n",
    "    \n",
    "    # Create slider\n",
    "    for i, h in enumerate(h_vals):\n",
    "        visibility = [True] * (len(fig.data))\n",
    "        visibility[0:4*len(h_vals)] = [False]*4*len(h_vals)\n",
    "        # Set the i-th pair of traces to visible\n",
    "        visibility[i*4] = True\n",
    "        visibility[i*4 + 1] = True\n",
    "        visibility[i*4 + 2] = True\n",
    "        visibility[i*4 + 3] = True\n",
    "        \n",
    "        step = dict(\n",
    "            method=\"restyle\",\n",
    "            args=[{\"visible\": visibility}],\n",
    "            label=f\"{h:.1f}\"  # Label for the slider tick\n",
    "        )\n",
    "        steps.append(step)\n",
    "     \n",
    "    \n",
    "    sliders = [dict(\n",
    "        active=2,  # The slider starts at the first step (h=0.5)\n",
    "        currentvalue={\"prefix\": \"h = \"},\n",
    "        pad={\"t\": 50}, # Padding to not overlap with title\n",
    "        steps=steps\n",
    "    )]\n",
    "        \n",
    "    # Set layout\n",
    "    fs = 16\n",
    "    fig.update_layout(\n",
    "        sliders=sliders,\n",
    "        font=dict(size=fs),  # Font size\n",
    "        legend=dict(xanchor=\"left\", x=0.01),  # Legend alignment\n",
    "        width=650,  # Figure width (example value)\n",
    "        height=500,  # Figure height (example value)\n",
    "        margin=dict(l=80, r=20, b=65, t=50),  # Margins\n",
    "        xaxis=dict(\n",
    "            range=[0, 2],  # Example x-axis range\n",
    "            title=dict(text=\"t\", font=dict(size=fs)),  # LaTeX-style title\n",
    "            scaleanchor=\"x\",  # Scale anchor\n",
    "            tick0=0.2,  # Tick starting value\n",
    "            dtick=0.2   # Tick interval\n",
    "        ),\n",
    "        yaxis=dict(\n",
    "            range=[0, 2],  # Example y-axis range\n",
    "            title=dict(text=\"y(t)\", font=dict(size=fs)),  # LaTeX-style title\n",
    "            tick0=0.2,  # Tick starting value\n",
    "            dtick=0.2   # Tick interval\n",
    "        )\n",
    "    )\n",
    "\n",
    "    display(HTML(f\"\"\"\n",
    "    <div style=\"display: flex; justify-content: center; align-items: center;\">\n",
    "    {fig.to_html()}\n",
    "    </div>\n",
    "    \"\"\"))"
   ]
  },
  {
   "cell_type": "code",
   "execution_count": null,
   "id": "37596fbe",
   "metadata": {
    "hide_input": true
   },
   "outputs": [],
   "source": [
    "plotAndCompareODEs(y0_study,fStudy)"
   ]
  },
  {
   "cell_type": "markdown",
   "id": "2384882e",
   "metadata": {},
   "source": [
    "**Abbildung 4**: Simulationsergebnis des Verfahrens von Heun im Vergleich zum Euler Verfahren."
   ]
  },
  {
   "cell_type": "code",
   "execution_count": null,
   "id": "9ee1f527",
   "metadata": {
    "hide_input": true
   },
   "outputs": [],
   "source": [
    "# Simulation Study Heun\n",
    "y_he_study = []\n",
    "for i,h in enumerate(h_study):\n",
    "    y_he_study.append(HeunMethod(t_study[i], fStudy, y0_study, h))"
   ]
  },
  {
   "cell_type": "code",
   "execution_count": null,
   "id": "e1c8cc7c",
   "metadata": {
    "hide_input": true
   },
   "outputs": [],
   "source": [
    "plotError(h_study,t_study,y_he_study)"
   ]
  },
  {
   "cell_type": "markdown",
   "id": "9204fa43",
   "metadata": {},
   "source": [
    "**Abbildung 5:** Verhalten des Fehlers $e=||y_{0.01}-y_h||_\\infty$ (Heun) beim Reduzieren der Schrittweite $h$."
   ]
  },
  {
   "cell_type": "markdown",
   "id": "6f5e6eb5",
   "metadata": {},
   "source": [
    "Man erkennt wie der **Fehler quadratisch von** $\\boldsymbol{h}$ **abhängt**. Aus diesem Grund bezeichnet man das **Verfahren von Heun** als **Verfahren 2.Ordnung**."
   ]
  },
  {
   "cell_type": "markdown",
   "id": "a8e7f33c",
   "metadata": {},
   "source": [
    "<br><br>"
   ]
  },
  {
   "cell_type": "markdown",
   "id": "4052a4d1",
   "metadata": {},
   "source": [
    "## 3. Anwendungsbeispiel: Stick-Slip Schwingung"
   ]
  },
  {
   "cell_type": "markdown",
   "id": "24006c41",
   "metadata": {},
   "source": [
    "Differentialgleichung des Minimalmodells für reibungsindizierte Schwingungen nach Stribeck: \n",
    "\n",
    "$\\begin{align} m\\ddot{x}+cx= F_R \\end{align}$ \n",
    "\n",
    "$\\begin{align} F_R = -\\left( F_C+(F_S-F_C)\\exp\\left(-\\left|\\frac{\\dot{x}-v_B}{v_S}\\right|^2\\right)\\right)\\text{sign}(\\dot{x}-v_B)+d(\\dot{x}-v_B)\\end{align}$\n",
    "\n",
    "  $x(t)$: horizontale Auslenkung der Masse $m$, $c$: Federsteifigkeit, $F_C$: Gleitreibungskraft (Coulomb), $F_S$: Haftkraft (statisches Limit), $v_B$: Geschwindigkeit des Untergrunds."
   ]
  },
  {
   "cell_type": "markdown",
   "id": "a7133dda",
   "metadata": {},
   "source": [
    "Umgeschrieben in ein System erster Ordnung ($\\dot{x}=v$, teilen durch $m$):"
   ]
  },
  {
   "cell_type": "markdown",
   "id": "9fa2496a",
   "metadata": {},
   "source": [
    "$\\begin{align} \\begin{bmatrix} \\dot{x} \\\\ \\dot{v} \\end{bmatrix} = \\begin{bmatrix} v \\\\ -\\frac{c}{m} x + \\frac{F_R}{m}\\end{bmatrix} \\end{align}$"
   ]
  },
  {
   "cell_type": "code",
   "execution_count": null,
   "id": "cae7cefd",
   "metadata": {},
   "outputs": [],
   "source": [
    "p = dict(cm=8,dm=0.25,vS=0.01,vB=0.05,Fc=1,Fs=1.1,)\n",
    "\n",
    "def FR(v,p):\n",
    "    return -((p[\"Fc\"]+(p[\"Fs\"]-p[\"Fc\"])*\n",
    "            np.exp(-np.absolute((v-p[\"vB\"])/p[\"vS\"])**2))*np.sign(v-p[\"vB\"])\n",
    "            +p[\"dm\"]*(v-p[\"vB\"]))\n",
    "\n",
    "def fSL(t,y,p):\n",
    "    dy = np.array([y[1], - p[\"cm\"]*y[0] + FR(y[1],p)]) \n",
    "    return dy\n",
    "\n",
    "def HeunMethodSystems(t,f,y0,h,p):\n",
    "    n    = len(y0)\n",
    "    y = np.zeros((len(t), n))\n",
    "    y[0] = np.array(y0)\n",
    "    for i in range(len(t)-1):\n",
    "        k1     = f(t[i], y[i],p)\n",
    "        k2     = f(t[i]+h,y[i]+h*k1,p)\n",
    "        y[i+1] = y[i] + h/2 * (k1+k2)\n",
    "    return y"
   ]
  },
  {
   "cell_type": "code",
   "execution_count": null,
   "id": "ebd0601f",
   "metadata": {},
   "outputs": [],
   "source": [
    "# Parameters\n",
    "h_SL  = 0.001\n",
    "t_SL  = np.arange(0,20.05,h_SL)\n",
    "y0_SL = np.array([0.0,0.0])\n",
    "\n",
    "# Solution\n",
    "y_SL = HeunMethodSystems(t_SL,fSL,y0_SL,h_SL,p)"
   ]
  },
  {
   "cell_type": "code",
   "execution_count": null,
   "id": "f6dbfdc9",
   "metadata": {
    "hide_input": true
   },
   "outputs": [],
   "source": [
    "def plotTrace(t,y,ylabel,yrange):\n",
    "    fig = go.Figure()\n",
    "\n",
    "    # Add traces\n",
    "    fig.add_trace(go.Scatter(x=t, y=y, \n",
    "                         mode='lines',line=dict(color='#1E76B4')))\n",
    "\n",
    "    # Set layout\n",
    "    fs = 16\n",
    "    fig.update_layout(\n",
    "        font=dict(size=fs),  # Font size\n",
    "        legend=dict(xanchor=\"left\", x=0.01),  # Legend alignment\n",
    "        width=650,  # Figure width (example value)\n",
    "        height=250,  # Figure height (example value)\n",
    "        margin=dict(l=80, r=20, b=65, t=50),  # Margins\n",
    "        xaxis=dict(\n",
    "            range=[t[0], t[-1]],  # Example x-axis range\n",
    "            title=dict(text=\"t\", font=dict(size=fs)),  # LaTeX-style title\n",
    "            scaleanchor=\"x\"\n",
    "        ),\n",
    "        yaxis=dict(\n",
    "            range=yrange,  # Example y-axis range\n",
    "            title=dict(text=ylabel, font=dict(size=fs))\n",
    "        )\n",
    "    )\n",
    "    \n",
    "    display(HTML(f\"\"\"\n",
    "    <div style=\"display: flex; justify-content: center; align-items: center;\">\n",
    "    {fig.to_html()}\n",
    "    </div>\n",
    "    \"\"\"))"
   ]
  },
  {
   "cell_type": "code",
   "execution_count": null,
   "id": "bc736c7e",
   "metadata": {
    "hide_input": true
   },
   "outputs": [],
   "source": [
    "# Position Plot\n",
    "plotTrace(t_SL,y_SL[:,0],\"x(t)\",[0,.2])"
   ]
  },
  {
   "cell_type": "code",
   "execution_count": null,
   "id": "ae661699",
   "metadata": {
    "hide_input": true
   },
   "outputs": [],
   "source": [
    "# Velocity Plot\n",
    "plotTrace(t_SL,y_SL[:,1],\"v(t)\",[-1.5*p[\"vB\"],1.5*p[\"vB\"]])"
   ]
  },
  {
   "cell_type": "code",
   "execution_count": null,
   "id": "2e04a7ab",
   "metadata": {
    "hide_input": true
   },
   "outputs": [],
   "source": [
    "plotTrace(t_SL,FR(y_SL[:,1],p),\"FR(t)\",[0,1.25])"
   ]
  },
  {
   "cell_type": "markdown",
   "id": "832a78ee",
   "metadata": {},
   "source": [
    "**Abbildung 6:** Simulationsergebnis für die Stick-Slip Schwingung. <br>$\\quad\\quad\\quad\\quad\\quad$**Oben:** Auslenkung $x(t)$, **mitte:** Geschwindigkeit $v(t)$, **unten:** Reibkraft $F_R(t)$."
   ]
  }
 ],
 "metadata": {
  "kernelspec": {
   "display_name": "Python 3 (ipykernel)",
   "language": "python",
   "name": "python3"
  },
  "language_info": {
   "codemirror_mode": {
    "name": "ipython",
    "version": 3
   },
   "file_extension": ".py",
   "mimetype": "text/x-python",
   "name": "python",
   "nbconvert_exporter": "python",
   "pygments_lexer": "ipython3",
   "version": "3.12.3"
  },
  "toc": {
   "base_numbering": 1,
   "nav_menu": {},
   "number_sections": false,
   "sideBar": true,
   "skip_h1_title": false,
   "title_cell": "Table of Contents",
   "title_sidebar": "Contents",
   "toc_cell": false,
   "toc_position": {},
   "toc_section_display": true,
   "toc_window_display": false
  }
 },
 "nbformat": 4,
 "nbformat_minor": 5
}
